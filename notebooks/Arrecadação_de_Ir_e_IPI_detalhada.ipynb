{
 "cells": [
  {
   "cell_type": "markdown",
   "id": "bcd6cdcf",
   "metadata": {},
   "source": [
    "# Entendendo as características dos **Resultado da Arrecadação**"
   ]
  },
  {
   "cell_type": "markdown",
   "id": "b833d4d7",
   "metadata": {},
   "source": [
    "____"
   ]
  },
  {
   "cell_type": "markdown",
   "id": "80ae0599",
   "metadata": {},
   "source": [
    "\n",
    "# Arrecadação de IR e IPI detalhada"
   ]
  },
  {
   "cell_type": "markdown",
   "id": "c35450ec",
   "metadata": {},
   "source": [
    "**Dicionário de Dados Arrecadação de IR e IPI detalhada**\n",
    "\n",
    "O arquivo relaciona as informações que possibilitam organizar, classificar, relacionar e inferir novos dados sobre o conjunto de dados da Arrecadação de IR e IPI detalhada.\n",
    "\n",
    "Acessado em 27/08/2025: https://www.gov.br/receitafederal/dados/arrecadacao-ir-ipi-metadados.pdf\n",
    "\n",
    "**Arrecadação de IR e IPI detalhada**\n",
    "\n",
    "Contém os dados de arrecadação decendial do Imposto sobre a Renda (IR) e do Imposto sobre Produtos Industrializados (IPI), discriminados por arrecadação bruta, os respectivos eventos que afetam essa arrecadação bruta e a arrecadação líquida, valor este último passível de repasse aos Fundos de Participação dos Estados e do Municípios, FPM e FPE, de acordo com dispositivo constitucional."
   ]
  },
  {
   "cell_type": "code",
   "execution_count": null,
   "id": "b96b5b2a",
   "metadata": {},
   "outputs": [],
   "source": [
    "# Arrecadação de IR e IPI detalhada\n",
    "\n",
    "import pandas as pd\n",
    "\n",
    "# Caminho do arquivo CSV\n",
    "caminho_arquivo = r'C:\\Users\\merc-\\OneDrive\\Documentos\\Logo Ali\\2025\\Analise_Dados\\data\\arrecadacao-ir-ipi.csv' \n",
    "\n",
    "# Importar o CSV\n",
    "df = pd.read_csv(caminho_arquivo, encoding='latin1', sep=';')\n",
    "\n",
    "# Exibir as primeiras linhas\n",
    "df.head()"
   ]
  },
  {
   "cell_type": "markdown",
   "id": "c99e118f",
   "metadata": {},
   "source": [
    "1 - Análise **Descritiva** para conhecer o que está acontecendo na organização e entender tendências e causas subjacentes de tais ocorrências."
   ]
  },
  {
   "cell_type": "markdown",
   "id": "221360a2",
   "metadata": {},
   "source": [
    "2 - Análise **Preditiva** para determinar o que é mais provável de acontecer no futuro."
   ]
  },
  {
   "cell_type": "markdown",
   "id": "1d469f8a",
   "metadata": {},
   "source": [
    "3 - Análise *Prescritiva* com base para conhecer o que está acontecendo, bem como o que deve vir a acontecer, e tomar decisões para garantir o melhor desempenho possível."
   ]
  },
  {
   "cell_type": "code",
   "execution_count": null,
   "metadata": {},
   "outputs": [],
   "source": []
  }
 ],
 "metadata": {
  "kernelspec": {
   "display_name": "base",
   "language": "python",
   "name": "python3"
  },
  "language_info": {
   "codemirror_mode": {
    "name": "ipython",
    "version": 3
   },
   "file_extension": ".py",
   "mimetype": "text/x-python",
   "name": "python",
   "nbconvert_exporter": "python",
   "pygments_lexer": "ipython3",
   "version": "3.9.13"
  }
 },
 "nbformat": 4,
 "nbformat_minor": 5
}
