{
 "cells": [
  {
   "cell_type": "markdown",
   "id": "bcd6cdcf",
   "metadata": {},
   "source": [
    "# Entendendo as características dos **Resultado da Arrecadação**"
   ]
  },
  {
   "cell_type": "markdown",
   "id": "b833d4d7",
   "metadata": {},
   "source": [
    "____"
   ]
  },
  {
   "cell_type": "markdown",
   "id": "80ae0599",
   "metadata": {},
   "source": [
    "\n",
    "# Arrecadação de IR e IPI detalhada"
   ]
  },
  {
   "cell_type": "markdown",
   "id": "c35450ec",
   "metadata": {},
   "source": [
    "**Dicionário de Dados Arrecadação de IR e IPI detalhada**\n",
    "\n",
    "O arquivo relaciona as informações que possibilitam organizar, classificar, relacionar e inferir novos dados sobre o conjunto de dados da Arrecadação de IR e IPI detalhada.\n",
    "\n",
    "Acessado em 27/08/2025: https://www.gov.br/receitafederal/dados/arrecadacao-ir-ipi-metadados.pdf\n",
    "\n",
    "**Arrecadação de IR e IPI detalhada**\n",
    "\n",
    "Contém os dados de arrecadação decendial do Imposto sobre a Renda (IR) e do Imposto sobre Produtos Industrializados (IPI), discriminados por arrecadação bruta, os respectivos eventos que afetam essa arrecadação bruta e a arrecadação líquida, valor este último passível de repasse aos Fundos de Participação dos Estados e do Municípios, FPM e FPE, de acordo com dispositivo constitucional."
   ]
  },
  {
   "cell_type": "code",
   "execution_count": 1,
   "id": "b96b5b2a",
   "metadata": {},
   "outputs": [
    {
     "data": {
      "text/html": [
       "<div>\n",
       "<style scoped>\n",
       "    .dataframe tbody tr th:only-of-type {\n",
       "        vertical-align: middle;\n",
       "    }\n",
       "\n",
       "    .dataframe tbody tr th {\n",
       "        vertical-align: top;\n",
       "    }\n",
       "\n",
       "    .dataframe thead th {\n",
       "        text-align: right;\n",
       "    }\n",
       "</style>\n",
       "<table border=\"1\" class=\"dataframe\">\n",
       "  <thead>\n",
       "    <tr style=\"text-align: right;\">\n",
       "      <th></th>\n",
       "      <th>Tributo</th>\n",
       "      <th>Ano</th>\n",
       "      <th>Mês</th>\n",
       "      <th>Decêndio</th>\n",
       "      <th>Arrecadação Bruta</th>\n",
       "      <th>Retificação</th>\n",
       "      <th>Compensação</th>\n",
       "      <th>Restituição</th>\n",
       "      <th>Outros</th>\n",
       "      <th>Arrecadação Líquida</th>\n",
       "    </tr>\n",
       "  </thead>\n",
       "  <tbody>\n",
       "    <tr>\n",
       "      <th>0</th>\n",
       "      <td>IPI</td>\n",
       "      <td>2019</td>\n",
       "      <td>Janeiro</td>\n",
       "      <td>1º decêndio</td>\n",
       "      <td>1.184.376.191,13</td>\n",
       "      <td>NaN</td>\n",
       "      <td>-22.835.343,52</td>\n",
       "      <td>-445.212,05</td>\n",
       "      <td>3.899.508,36</td>\n",
       "      <td>1.164.995.143,92</td>\n",
       "    </tr>\n",
       "    <tr>\n",
       "      <th>1</th>\n",
       "      <td>IPI</td>\n",
       "      <td>2019</td>\n",
       "      <td>Janeiro</td>\n",
       "      <td>2º decêndio</td>\n",
       "      <td>505.362.810,07</td>\n",
       "      <td>1.508.551.632,45</td>\n",
       "      <td>-91.511.158,02</td>\n",
       "      <td>-7.933.945,05</td>\n",
       "      <td>-1.923.033.857,43</td>\n",
       "      <td>-8.564.517,98</td>\n",
       "    </tr>\n",
       "    <tr>\n",
       "      <th>2</th>\n",
       "      <td>IPI</td>\n",
       "      <td>2019</td>\n",
       "      <td>Janeiro</td>\n",
       "      <td>3º decêndio</td>\n",
       "      <td>3.124.520.357,20</td>\n",
       "      <td>23.446,58</td>\n",
       "      <td>-176.542.912,08</td>\n",
       "      <td>-42.858.973,78</td>\n",
       "      <td>127.922.587,68</td>\n",
       "      <td>3.033.064.505,60</td>\n",
       "    </tr>\n",
       "    <tr>\n",
       "      <th>3</th>\n",
       "      <td>IPI</td>\n",
       "      <td>2019</td>\n",
       "      <td>Fevereiro</td>\n",
       "      <td>1º decêndio</td>\n",
       "      <td>846.117.580,21</td>\n",
       "      <td>1.832.646,16</td>\n",
       "      <td>-81.701.322,01</td>\n",
       "      <td>-21.654,92</td>\n",
       "      <td>2.969.183,40</td>\n",
       "      <td>769.196.432,84</td>\n",
       "    </tr>\n",
       "    <tr>\n",
       "      <th>4</th>\n",
       "      <td>IPI</td>\n",
       "      <td>2019</td>\n",
       "      <td>Fevereiro</td>\n",
       "      <td>2º decêndio</td>\n",
       "      <td>636.136.421,98</td>\n",
       "      <td>-111.724,14</td>\n",
       "      <td>-59.915.844,65</td>\n",
       "      <td>-4.456.015,80</td>\n",
       "      <td>50.000.414,64</td>\n",
       "      <td>621.653.252,03</td>\n",
       "    </tr>\n",
       "  </tbody>\n",
       "</table>\n",
       "</div>"
      ],
      "text/plain": [
       "  Tributo   Ano        Mês     Decêndio Arrecadação Bruta       Retificação  \\\n",
       "0     IPI  2019    Janeiro  1º decêndio  1.184.376.191,13               NaN   \n",
       "1     IPI  2019    Janeiro  2º decêndio    505.362.810,07  1.508.551.632,45   \n",
       "2     IPI  2019    Janeiro  3º decêndio  3.124.520.357,20         23.446,58   \n",
       "3     IPI  2019  Fevereiro  1º decêndio    846.117.580,21      1.832.646,16   \n",
       "4     IPI  2019  Fevereiro  2º decêndio    636.136.421,98       -111.724,14   \n",
       "\n",
       "       Compensação     Restituição             Outros Arrecadação Líquida  \n",
       "0   -22.835.343,52     -445.212,05       3.899.508,36    1.164.995.143,92  \n",
       "1   -91.511.158,02   -7.933.945,05  -1.923.033.857,43       -8.564.517,98  \n",
       "2  -176.542.912,08  -42.858.973,78     127.922.587,68    3.033.064.505,60  \n",
       "3   -81.701.322,01      -21.654,92       2.969.183,40      769.196.432,84  \n",
       "4   -59.915.844,65   -4.456.015,80      50.000.414,64      621.653.252,03  "
      ]
     },
     "execution_count": 1,
     "metadata": {},
     "output_type": "execute_result"
    }
   ],
   "source": [
    "# Arrecadação de IR e IPI detalhada\n",
    "\n",
    "import pandas as pd\n",
    "\n",
    "# Caminho do arquivo CSV\n",
    "caminho_arquivo = r'C:\\Users\\merc-\\OneDrive\\Documentos\\Logo Ali\\2025\\Analise_Dados\\arrecadacao-ir-ipi.csv' \n",
    "\n",
    "# Importar o CSV\n",
    "df = pd.read_csv(caminho_arquivo, encoding='latin1', sep=';')\n",
    "\n",
    "# Exibir as primeiras linhas\n",
    "df.head()"
   ]
  },
  {
   "cell_type": "markdown",
   "id": "c99e118f",
   "metadata": {},
   "source": [
    "1 - Análise **Descritiva** para conhecer o que está acontecendo na organização e entender tendências e causas subjacentes de tais ocorrências."
   ]
  },
  {
   "cell_type": "markdown",
   "id": "221360a2",
   "metadata": {},
   "source": [
    "2 - Análise **Preditiva** para determinar o que é mais provável de acontecer no futuro."
   ]
  },
  {
   "cell_type": "markdown",
   "id": "1d469f8a",
   "metadata": {},
   "source": [
    "3 - Análise *Prescritiva* com base para conhecer o que está acontecendo, bem como o que deve vir a acontecer, e tomar decisões para garantir o melhor desempenho possível."
   ]
  },
  {
   "cell_type": "code",
   "execution_count": null,
   "metadata": {},
   "outputs": [],
   "source": []
  }
 ],
 "metadata": {
  "kernelspec": {
   "display_name": "base",
   "language": "python",
   "name": "python3"
  },
  "language_info": {
   "codemirror_mode": {
    "name": "ipython",
    "version": 3
   },
   "file_extension": ".py",
   "mimetype": "text/x-python",
   "name": "python",
   "nbconvert_exporter": "python",
   "pygments_lexer": "ipython3",
   "version": "3.9.13"
  }
 },
 "nbformat": 4,
 "nbformat_minor": 5
}
